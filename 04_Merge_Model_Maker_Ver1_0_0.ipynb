{
  "nbformat": 4,
  "nbformat_minor": 0,
  "metadata": {
    "colab": {
      "provenance": [],
      "machine_shape": "hm",
      "gpuType": "L4",
      "toc_visible": true,
      "include_colab_link": true
    },
    "kernelspec": {
      "name": "python3",
      "display_name": "Python 3"
    },
    "language_info": {
      "name": "python"
    },
    "accelerator": "GPU"
  },
  "cells": [
    {
      "cell_type": "markdown",
      "metadata": {
        "id": "view-in-github",
        "colab_type": "text"
      },
      "source": [
        "<a href=\"https://colab.research.google.com/github/yf591/sd-model-merge-tool/blob/main/04_Merge_Model_Maker_Ver1_0_0.ipynb\" target=\"_parent\"><img src=\"https://colab.research.google.com/assets/colab-badge.svg\" alt=\"Open In Colab\"/></a>"
      ]
    },
    {
      "cell_type": "markdown",
      "source": [
        "# 2モデルの単純マージ（Hugging Face用）"
      ],
      "metadata": {
        "id": "od7r_Mm0bn7q"
      }
    },
    {
      "cell_type": "code",
      "source": [
        "from google.colab import drive\n",
        "drive.mount('/content/drive')"
      ],
      "metadata": {
        "id": "L2n4EfVOVSDp"
      },
      "execution_count": null,
      "outputs": []
    },
    {
      "cell_type": "code",
      "source": [
        "from google.colab import output\n",
        "\n",
        "# Hugging Face Hub, PyTorch, その他必要なライブラリをインストール\n",
        "!pip install --upgrade pip\n",
        "!pip install torch torchvision torchaudio --index-url https://download.pytorch.org/whl/cu118 # PyTorchを使用して深層学習モデルを操作します。CUDAバージョン（例: `cu118`）を指定\n",
        "!pip install diffusers transformers accelerate # Stable Diffusionを扱うための主要ライブラリです。モデルのロードや画像生成の操作を簡素化\n",
        "!pip install safetensors # 安全かつ軽量なモデル保存形式（`.safetensors`）をサポート\n",
        "!pip install huggingface-hub # Hugging Face Hubからモデルをダウンロード・管理\n",
        "!pip install opencv-python # 生成した画像の前処理や後処理に使用\n",
        "!pip install numpy # 数値計算ライブラリで、モデルや画像の操作に使う\n",
        "!pip install matplotlib # 生成された画像の可視化に使う\n",
        "!pip install tqdm # プログレスバーの表示\n",
        "!pip install optuna # ハイパーパラメータ最適化\n",
        "\n",
        "output.clear()"
      ],
      "metadata": {
        "id": "1XYyzlntWgxt"
      },
      "execution_count": null,
      "outputs": []
    },
    {
      "cell_type": "code",
      "source": [
        "import os\n",
        "import torch\n",
        "from safetensors.torch import load_file, save_file\n",
        "from transformers import AutoConfig, AutoModel\n",
        "from huggingface_hub import hf_hub_download"
      ],
      "metadata": {
        "id": "yns9Inf6WZQn"
      },
      "execution_count": null,
      "outputs": []
    },
    {
      "cell_type": "code",
      "source": [
        "from getpass import getpass\n",
        "\n",
        "# Hugging Faceで取得したTokenをこちらに貼る(トークンを非表示で入力)\n",
        "HF_TOKEN = getpass(\"Hugging FaceのRead権限のあるHF Tokenを入力してください: \")"
      ],
      "metadata": {
        "id": "bV_1gvhHVS4P"
      },
      "execution_count": null,
      "outputs": []
    },
    {
      "cell_type": "code",
      "execution_count": null,
      "metadata": {
        "id": "4HXUgZo5rQC4"
      },
      "outputs": [],
      "source": [
        "#@title ### 関数の定義（設定）\n",
        "\n",
        "# ヘルパー関数\n",
        "def download_model(repo_id, filename, token):\n",
        "    \"\"\"Hugging Face Hubからモデルをダウンロード\"\"\"\n",
        "    return hf_hub_download(repo_id=repo_id, filename=filename, token=token)\n",
        "\n",
        "def merge_weights(model1, model2, alpha):\n",
        "    \"\"\"指定されたレイヤーで重みをマージする\"\"\"\n",
        "    merged = {}\n",
        "    for key in model1.keys():\n",
        "        if key in model2:\n",
        "            layer_weight = alpha\n",
        "            try:\n",
        "                merged[key] = layer_weight * model1[key] + (1 - layer_weight) * model2[key]\n",
        "            except Exception as e:\n",
        "                print(f\"Skipped key: {key}, Error: {e}\")\n",
        "                merged[key] = model1[key]  # エラーが発生したら model1 の重みをそのまま使う\n",
        "        else:\n",
        "            merged[key] = model1[key]\n",
        "    return merged\n",
        "\n",
        "\n",
        "def save_merged_model(merged_weights, output_path):\n",
        "    \"\"\"マージ済みモデルを保存\"\"\"\n",
        "    os.makedirs(os.path.dirname(output_path), exist_ok=True)\n",
        "    save_file(merged_weights, output_path)"
      ]
    },
    {
      "cell_type": "code",
      "source": [
        "#@title ### UI設定\n",
        "\n",
        "#@markdown ### マージするモデルを設定\n",
        "repo1 = \"sazyou-roukaku/chilled_remix\" #@param {type:\"string\"}\n",
        "file1 = \"chilled_remix_v2.safetensors\" #@param {type:\"string\"}\n",
        "repo2 = \"casque/majicmixRealistic_v6\" #@param {type:\"string\"}\n",
        "file2 = \"majicmixRealistic_v6.safetensors\" #@param {type:\"string\"}\n",
        "\n",
        "#@markdown ### アウトプット先を指定\n",
        "output_file = \"/content/drive/MyDrive/sd-webui-google-colab-setup/stable-diffusion-webui/models/checkpoints/merged_model_chill_majicmix.safetensors\" #@param {type:\"string\"}\n",
        "\n",
        "#@markdown ### マージ比率の設定\n",
        "alpha = 0.5 #@param {type:\"slider\", min:0.0, max:1.0, step:0.001}"
      ],
      "metadata": {
        "id": "pXPClJzZKm6g"
      },
      "execution_count": null,
      "outputs": []
    },
    {
      "cell_type": "code",
      "source": [
        "#@title ###実行\n",
        "try:\n",
        "    print(\"モデルのダウンロードを開始します...\")\n",
        "    path1 = download_model(repo1, file1, HF_TOKEN)\n",
        "    path2 = download_model(repo2, file2, HF_TOKEN)\n",
        "\n",
        "    print(\"モデルをロード中...\")\n",
        "    model1 = load_file(path1, device=\"cuda\" if torch.cuda.is_available() else \"cpu\")\n",
        "    model2 = load_file(path2, device=\"cuda\" if torch.cuda.is_available() else \"cpu\")\n",
        "\n",
        "    # ここにモデルのキーを出力するコードを追加\n",
        "    print(\"model1 keys:\", model1.keys())\n",
        "    print(\"model2 keys:\", model2.keys())\n",
        "\n",
        "    print(\"モデルをレイヤーごとにマージ中...\")\n",
        "    merged_weights = merge_weights(model1, model2, alpha)\n",
        "\n",
        "    print(f\"マージされたモデルを保存します: {output_file}\")\n",
        "    save_merged_model(merged_weights, output_file)\n",
        "    print(\"マージ完了！\")\n",
        "\n",
        "except Exception as e:\n",
        "    print(f\"エラーが発生しました: {e}\")"
      ],
      "metadata": {
        "id": "E2wcOpy7NvmQ"
      },
      "execution_count": null,
      "outputs": []
    }
  ]
}