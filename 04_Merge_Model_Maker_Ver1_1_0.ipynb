{
  "nbformat": 4,
  "nbformat_minor": 0,
  "metadata": {
    "colab": {
      "provenance": [],
      "machine_shape": "hm",
      "gpuType": "L4",
      "toc_visible": true,
      "include_colab_link": true
    },
    "kernelspec": {
      "name": "python3",
      "display_name": "Python 3"
    },
    "language_info": {
      "name": "python"
    },
    "accelerator": "GPU"
  },
  "cells": [
    {
      "cell_type": "markdown",
      "metadata": {
        "id": "view-in-github",
        "colab_type": "text"
      },
      "source": [
        "<a href=\"https://colab.research.google.com/github/yf591/sd-model-merge-tool/blob/main/04_Merge_Model_Maker_Ver1_1_0.ipynb\" target=\"_parent\"><img src=\"https://colab.research.google.com/assets/colab-badge.svg\" alt=\"Open In Colab\"/></a>"
      ]
    },
    {
      "cell_type": "markdown",
      "source": [
        "# 2モデルの階層マージ（Hugging Face用）"
      ],
      "metadata": {
        "id": "fR9uKmDz7vvb"
      }
    },
    {
      "cell_type": "code",
      "source": [
        "from google.colab import drive\n",
        "drive.mount('/content/drive')"
      ],
      "metadata": {
        "id": "gk2kfYX5BSBf"
      },
      "execution_count": null,
      "outputs": []
    },
    {
      "cell_type": "code",
      "source": [
        "from google.colab import output\n",
        "\n",
        "# Hugging Face Hub, PyTorch, その他必要なライブラリをインストール\n",
        "!pip install --upgrade pip\n",
        "!pip install torch torchvision torchaudio --index-url https://download.pytorch.org/whl/cu118 # PyTorchを使用して深層学習モデルを操作します。CUDAバージョン（例: `cu118`）を指定\n",
        "!pip install diffusers transformers accelerate # Stable Diffusionを扱うための主要ライブラリです。モデルのロードや画像生成の操作を簡素化\n",
        "!pip install safetensors # 安全かつ軽量なモデル保存形式（`.safetensors`）をサポート\n",
        "!pip install huggingface-hub # Hugging Face Hubからモデルをダウンロード・管理\n",
        "!pip install opencv-python # 生成した画像の前処理や後処理に使用\n",
        "!pip install numpy # 数値計算ライブラリで、モデルや画像の操作に使う\n",
        "!pip install matplotlib # 生成された画像の可視化に使う\n",
        "!pip install tqdm # プログレスバーの表示\n",
        "!pip install optuna # ハイパーパラメータ最適化\n",
        "\n",
        "output.clear()"
      ],
      "metadata": {
        "id": "fGB3APsEHB9c"
      },
      "execution_count": null,
      "outputs": []
    },
    {
      "cell_type": "code",
      "source": [
        "import os\n",
        "import torch\n",
        "from safetensors.torch import load_file, save_file\n",
        "from transformers import AutoConfig, AutoModel\n",
        "from huggingface_hub import hf_hub_download\n",
        "from getpass import getpass"
      ],
      "metadata": {
        "id": "qgSmdhyqG6ny"
      },
      "execution_count": null,
      "outputs": []
    },
    {
      "cell_type": "code",
      "source": [
        "# Hugging Faceで取得したTokenをこちらに貼る(トークンを非表示で入力)\n",
        "HF_TOKEN = getpass(\"Hugging FaceのRead権限のあるHF Tokenを入力してください: \")"
      ],
      "metadata": {
        "id": "wOCjh6D3MAdr"
      },
      "execution_count": null,
      "outputs": []
    },
    {
      "cell_type": "code",
      "execution_count": null,
      "metadata": {
        "id": "4HXUgZo5rQC4"
      },
      "outputs": [],
      "source": [
        "#@title ### 関数の定義（設定）\n",
        "\n",
        "# ヘルパー関数\n",
        "def download_model(repo_id, filename, token):\n",
        "    \"\"\"Hugging Face Hubからモデルをダウンロード\"\"\"\n",
        "    return hf_hub_download(repo_id=repo_id, filename=filename, token=token)\n",
        "\n",
        "def merge_weights(model1, model2, alpha, layer_weights):\n",
        "    \"\"\"指定されたレイヤーで重みをマージする\"\"\"\n",
        "    merged = {}\n",
        "    skipped_layers = [] # スキップされたレイヤーを記録するリスト\n",
        "    for key in model1.keys():\n",
        "        layer_name = key.split(\".\")[0] # レイヤー名を取得\n",
        "\n",
        "        if key in model2 and layer_name in layer_weights:\n",
        "            layer_weight = layer_weights.get(layer_name, alpha)\n",
        "            try:\n",
        "                merged[key] = layer_weight * model1[key] + (1 - layer_weight) * model2[key]\n",
        "            except Exception as e:\n",
        "                print(f\"Skipped key: {key}, Error: {e}\")\n",
        "                skipped_layers.append(key) # スキップされたレイヤーを記録\n",
        "                merged[key] = model1[key]\n",
        "        else:\n",
        "            merged[key] = model1[key]\n",
        "    if skipped_layers:\n",
        "       print(\"Skipped layers:\", skipped_layers) # スキップされたレイヤーのリストを表示\n",
        "    return merged\n",
        "\n",
        "\n",
        "def save_merged_model(merged_weights, output_path):\n",
        "    \"\"\"マージ済みモデルを保存\"\"\"\n",
        "    os.makedirs(os.path.dirname(output_path), exist_ok=True)\n",
        "    save_file(merged_weights, output_path)"
      ]
    },
    {
      "cell_type": "code",
      "source": [
        "#@title ### UI設定\n",
        "\n",
        "#@markdown ### マージするモデルを設定\n",
        "\n",
        "# UI設定\n",
        "repo1 = \"sazyou-roukaku/chilled_remix\" #@param {type:\"string\"}\n",
        "file1 = \"chilled_remix_v2.safetensors\" #@param {type:\"string\"}\n",
        "repo2 = \"SG161222/Realistic_Vision_V2.0\" #@param {type:\"string\"}\n",
        "file2 = \"Realistic_Vision_V2.0-fp16-no-ema-inpainting.safetensors\" #@param {type:\"string\"}\n",
        "\n",
        "#@markdown ### アウトプット先を指定\n",
        "output_file = \"/content/drive/MyDrive/merged_model/merged_model.safetensors\" #@param {type:\"string\"}"
      ],
      "metadata": {
        "id": "pXPClJzZKm6g"
      },
      "execution_count": null,
      "outputs": []
    },
    {
      "cell_type": "code",
      "source": [
        "#@markdown ### マージ比率Alphaの設定\n",
        "alpha = 0.75 #@param {type:\"slider\", min:0.0, max:1.0, step:0.001}\n",
        "\n",
        "#@markdown ### レイヤーごとのマージ比率の設定\n",
        "layer_weight_IN00 = 0.5 #@param {type:\"slider\", min:0.0, max:1.0, step:0.001}\n",
        "layer_weight_IN01 = 0.5 #@param {type:\"slider\", min:0.0, max:1.0, step:0.001}\n",
        "layer_weight_IN02 = 0.5 #@param {type:\"slider\", min:0.0, max:1.0, step:0.001}\n",
        "layer_weight_IN03 = 0.5 #@param {type:\"slider\", min:0.0, max:1.0, step:0.001}\n",
        "layer_weight_IN04 = 0.5 #@param {type:\"slider\", min:0.0, max:1.0, step:0.001}\n",
        "layer_weight_IN05 = 0.5 #@param {type:\"slider\", min:0.0, max:1.0, step:0.001}\n",
        "layer_weight_IN06 = 0.5 #@param {type:\"slider\", min:0.0, max:1.0, step:0.001}\n",
        "layer_weight_IN07 = 0.5 #@param {type:\"slider\", min:0.0, max:1.0, step:0.001}\n",
        "layer_weight_IN08 = 0.5 #@param {type:\"slider\", min:0.0, max:1.0, step:0.001}\n",
        "layer_weight_IN09 = 0.5 #@param {type:\"slider\", min:0.0, max:1.0, step:0.001}\n",
        "layer_weight_IN10 = 0.5 #@param {type:\"slider\", min:0.0, max:1.0, step:0.001}\n",
        "layer_weight_IN11 = 0.5 #@param {type:\"slider\", min:0.0, max:1.0, step:0.001}\n",
        "\n",
        "layer_weight_M00 = 0.5 #@param {type:\"slider\", min:0.0, max:1.0, step:0.001}\n",
        "\n",
        "layer_weight_OUT00 = 0.5 #@param {type:\"slider\", min:0.0, max:1.0, step:0.001}\n",
        "layer_weight_OUT01 = 0.5 #@param {type:\"slider\", min:0.0, max:1.0, step:0.001}\n",
        "layer_weight_OUT02 = 0.5 #@param {type:\"slider\", min:0.0, max:1.0, step:0.001}\n",
        "layer_weight_OUT03 = 0.5 #@param {type:\"slider\", min:0.0, max:1.0, step:0.001}\n",
        "layer_weight_OUT04 = 0.5 #@param {type:\"slider\", min:0.0, max:1.0, step:0.001}\n",
        "layer_weight_OUT05 = 0.5 #@param {type:\"slider\", min:0.0, max:1.0, step:0.001}\n",
        "layer_weight_OUT06 = 0.5 #@param {type:\"slider\", min:0.0, max:1.0, step:0.001}\n",
        "layer_weight_OUT07 = 0.5 #@param {type:\"slider\", min:0.0, max:1.0, step:0.001}\n",
        "layer_weight_OUT08 = 0.5 #@param {type:\"slider\", min:0.0, max:1.0, step:0.001}\n",
        "layer_weight_OUT09 = 0.5 #@param {type:\"slider\", min:0.0, max:1.0, step:0.001}\n",
        "layer_weight_OUT10 = 0.5 #@param {type:\"slider\", min:0.0, max:1.0, step:0.001}\n",
        "layer_weight_OUT11 = 0.5 #@param {type:\"slider\", min:0.0, max:1.0, step:0.001}\n",
        "\n",
        "\n",
        "# レイヤーごとの比率設定（コメントアウトした部分はマージ比率Alphaを適用）\n",
        "layer_weights = {\n",
        "    \"IN00\": layer_weight_IN00,\n",
        "    \"IN01\": layer_weight_IN01,\n",
        "    # \"IN02\": layer_weight_IN02,\n",
        "    # \"IN03\": layer_weight_IN03,\n",
        "    # \"IN04\": layer_weight_IN04,\n",
        "    # \"IN05\": layer_weight_IN05,\n",
        "    # \"IN06\": layer_weight_IN06,\n",
        "    # \"IN07\": layer_weight_IN07,\n",
        "    # \"IN08\": layer_weight_IN08,\n",
        "    # \"IN09\": layer_weight_IN09,\n",
        "    # \"IN10\": layer_weight_IN10,\n",
        "    # \"IN11\": layer_weight_IN11,\n",
        "    # \"M00\": layer_weight_M00,\n",
        "    # \"OUT00\": layer_weight_OUT00,\n",
        "    # \"OUT01\": layer_weight_OUT01,\n",
        "    # \"OUT02\": layer_weight_OUT02,\n",
        "    # \"OUT03\": layer_weight_OUT03,\n",
        "    # \"OUT04\": layer_weight_OUT04,\n",
        "    # \"OUT05\": layer_weight_OUT05,\n",
        "    # \"OUT06\": layer_weight_OUT06,\n",
        "    # \"OUT07\": layer_weight_OUT07,\n",
        "    # \"OUT08\": layer_weight_OUT08,\n",
        "    # \"OUT09\": layer_weight_OUT09,\n",
        "    \"OUT10\": layer_weight_OUT10,\n",
        "    \"OUT11\": layer_weight_OUT11\n",
        "}"
      ],
      "metadata": {
        "id": "vnf15flsoAHi"
      },
      "execution_count": null,
      "outputs": []
    },
    {
      "cell_type": "code",
      "source": [
        "#@title ###実行\n",
        "try:\n",
        "    print(\"モデルのダウンロードを開始します...\")\n",
        "    path1 = download_model(repo1, file1, HF_TOKEN)\n",
        "    path2 = download_model(repo2, file2, HF_TOKEN)\n",
        "\n",
        "    print(\"モデルをロード中...\")\n",
        "    model1 = load_file(path1, device=\"cuda\" if torch.cuda.is_available() else \"cpu\")\n",
        "    model2 = load_file(path2, device=\"cuda\" if torch.cuda.is_available() else \"cpu\")\n",
        "\n",
        "    # ここにモデルのキーを出力するコードを追加\n",
        "    print(\"model1 keys:\", model1.keys())\n",
        "    print(\"model2 keys:\", model2.keys())\n",
        "\n",
        "    print(\"モデルをレイヤーごとにマージ中...\")\n",
        "    merged_weights = merge_weights(model1, model2, alpha, layer_weights)\n",
        "\n",
        "    print(f\"マージされたモデルを保存します: {output_file}\")\n",
        "    save_merged_model(merged_weights, output_file)\n",
        "    print(\"マージ完了！\")\n",
        "\n",
        "except Exception as e:\n",
        "    print(f\"エラーが発生しました: {e}\")"
      ],
      "metadata": {
        "id": "E2wcOpy7NvmQ"
      },
      "execution_count": null,
      "outputs": []
    }
  ]
}